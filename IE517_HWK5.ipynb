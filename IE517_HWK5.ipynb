{
  "nbformat": 4,
  "nbformat_minor": 0,
  "metadata": {
    "colab": {
      "name": "IE517_HWK5.ipynb",
      "provenance": [],
      "authorship_tag": "ABX9TyMuz9mEKD6zL8tfu3RU/5/B",
      "include_colab_link": true
    },
    "kernelspec": {
      "name": "python3",
      "display_name": "Python 3"
    },
    "language_info": {
      "name": "python"
    }
  },
  "cells": [
    {
      "cell_type": "markdown",
      "metadata": {
        "id": "view-in-github",
        "colab_type": "text"
      },
      "source": [
        "<a href=\"https://colab.research.google.com/github/eemayes2/IE517_F21_HW5/blob/main/IE517_HWK5.ipynb\" target=\"_parent\"><img src=\"https://colab.research.google.com/assets/colab-badge.svg\" alt=\"Open In Colab\"/></a>"
      ]
    },
    {
      "cell_type": "code",
      "metadata": {
        "id": "uEbWn5hxvDWN"
      },
      "source": [
        "#Import libraries needed\n",
        "import numpy as np\n",
        "import pandas as pd\n",
        "import seaborn as sns\n",
        "import matplotlib.pyplot as plt\n",
        "import warnings\n",
        "warnings.filterwarnings('ignore')\n",
        "\n",
        "#Check if any null values we need to change\n",
        "def num_missing(x):\n",
        "    return sum(x.isnull())"
      ],
      "execution_count": 1,
      "outputs": []
    },
    {
      "cell_type": "code",
      "metadata": {
        "colab": {
          "base_uri": "https://localhost:8080/",
          "height": 226
        },
        "id": "ewiLYNahxwlg",
        "outputId": "4be3882a-cb1f-480d-8ba4-75d255a1ed7f"
      },
      "source": [
        "#Read in Data\n",
        "df = pd.read_csv('hw5_treasury yield curve data.csv', header=0)\n",
        "#Reminder: ATT1-13 is noise, MEDV is target variable\n",
        "df.head()"
      ],
      "execution_count": 2,
      "outputs": [
        {
          "output_type": "execute_result",
          "data": {
            "text/html": [
              "<div>\n",
              "<style scoped>\n",
              "    .dataframe tbody tr th:only-of-type {\n",
              "        vertical-align: middle;\n",
              "    }\n",
              "\n",
              "    .dataframe tbody tr th {\n",
              "        vertical-align: top;\n",
              "    }\n",
              "\n",
              "    .dataframe thead th {\n",
              "        text-align: right;\n",
              "    }\n",
              "</style>\n",
              "<table border=\"1\" class=\"dataframe\">\n",
              "  <thead>\n",
              "    <tr style=\"text-align: right;\">\n",
              "      <th></th>\n",
              "      <th>Date</th>\n",
              "      <th>SVENF01</th>\n",
              "      <th>SVENF02</th>\n",
              "      <th>SVENF03</th>\n",
              "      <th>SVENF04</th>\n",
              "      <th>SVENF05</th>\n",
              "      <th>SVENF06</th>\n",
              "      <th>SVENF07</th>\n",
              "      <th>SVENF08</th>\n",
              "      <th>SVENF09</th>\n",
              "      <th>SVENF10</th>\n",
              "      <th>SVENF11</th>\n",
              "      <th>SVENF12</th>\n",
              "      <th>SVENF13</th>\n",
              "      <th>SVENF14</th>\n",
              "      <th>SVENF15</th>\n",
              "      <th>SVENF16</th>\n",
              "      <th>SVENF17</th>\n",
              "      <th>SVENF18</th>\n",
              "      <th>SVENF19</th>\n",
              "      <th>SVENF20</th>\n",
              "      <th>SVENF21</th>\n",
              "      <th>SVENF22</th>\n",
              "      <th>SVENF23</th>\n",
              "      <th>SVENF24</th>\n",
              "      <th>SVENF25</th>\n",
              "      <th>SVENF26</th>\n",
              "      <th>SVENF27</th>\n",
              "      <th>SVENF28</th>\n",
              "      <th>SVENF29</th>\n",
              "      <th>SVENF30</th>\n",
              "      <th>Adj_Close</th>\n",
              "    </tr>\n",
              "  </thead>\n",
              "  <tbody>\n",
              "    <tr>\n",
              "      <th>0</th>\n",
              "      <td>5/17/2019</td>\n",
              "      <td>2.1224</td>\n",
              "      <td>2.0266</td>\n",
              "      <td>2.1023</td>\n",
              "      <td>2.2377</td>\n",
              "      <td>2.3790</td>\n",
              "      <td>2.5042</td>\n",
              "      <td>2.6069</td>\n",
              "      <td>2.6885</td>\n",
              "      <td>2.7530</td>\n",
              "      <td>2.8054</td>\n",
              "      <td>2.8498</td>\n",
              "      <td>2.8899</td>\n",
              "      <td>2.9283</td>\n",
              "      <td>2.9667</td>\n",
              "      <td>3.0063</td>\n",
              "      <td>3.0477</td>\n",
              "      <td>3.0912</td>\n",
              "      <td>3.1368</td>\n",
              "      <td>3.1843</td>\n",
              "      <td>3.2335</td>\n",
              "      <td>3.2840</td>\n",
              "      <td>3.3355</td>\n",
              "      <td>3.3876</td>\n",
              "      <td>3.4400</td>\n",
              "      <td>3.4925</td>\n",
              "      <td>3.5446</td>\n",
              "      <td>3.5962</td>\n",
              "      <td>3.6471</td>\n",
              "      <td>3.6970</td>\n",
              "      <td>3.7458</td>\n",
              "      <td>10.130177</td>\n",
              "    </tr>\n",
              "    <tr>\n",
              "      <th>1</th>\n",
              "      <td>5/16/2019</td>\n",
              "      <td>2.1239</td>\n",
              "      <td>2.0317</td>\n",
              "      <td>2.1096</td>\n",
              "      <td>2.2468</td>\n",
              "      <td>2.3901</td>\n",
              "      <td>2.5171</td>\n",
              "      <td>2.6217</td>\n",
              "      <td>2.7049</td>\n",
              "      <td>2.7710</td>\n",
              "      <td>2.8247</td>\n",
              "      <td>2.8703</td>\n",
              "      <td>2.9113</td>\n",
              "      <td>2.9503</td>\n",
              "      <td>2.9892</td>\n",
              "      <td>3.0291</td>\n",
              "      <td>3.0707</td>\n",
              "      <td>3.1143</td>\n",
              "      <td>3.1598</td>\n",
              "      <td>3.2071</td>\n",
              "      <td>3.2561</td>\n",
              "      <td>3.3063</td>\n",
              "      <td>3.3574</td>\n",
              "      <td>3.4091</td>\n",
              "      <td>3.4610</td>\n",
              "      <td>3.5130</td>\n",
              "      <td>3.5646</td>\n",
              "      <td>3.6156</td>\n",
              "      <td>3.6660</td>\n",
              "      <td>3.7153</td>\n",
              "      <td>3.7636</td>\n",
              "      <td>10.130177</td>\n",
              "    </tr>\n",
              "    <tr>\n",
              "      <th>2</th>\n",
              "      <td>5/15/2019</td>\n",
              "      <td>2.0874</td>\n",
              "      <td>1.9956</td>\n",
              "      <td>2.0844</td>\n",
              "      <td>2.2289</td>\n",
              "      <td>2.3736</td>\n",
              "      <td>2.4980</td>\n",
              "      <td>2.5984</td>\n",
              "      <td>2.6779</td>\n",
              "      <td>2.7418</td>\n",
              "      <td>2.7951</td>\n",
              "      <td>2.8422</td>\n",
              "      <td>2.8862</td>\n",
              "      <td>2.9293</td>\n",
              "      <td>2.9728</td>\n",
              "      <td>3.0173</td>\n",
              "      <td>3.0633</td>\n",
              "      <td>3.1107</td>\n",
              "      <td>3.1592</td>\n",
              "      <td>3.2087</td>\n",
              "      <td>3.2587</td>\n",
              "      <td>3.3089</td>\n",
              "      <td>3.3589</td>\n",
              "      <td>3.4086</td>\n",
              "      <td>3.4575</td>\n",
              "      <td>3.5055</td>\n",
              "      <td>3.5524</td>\n",
              "      <td>3.5980</td>\n",
              "      <td>3.6421</td>\n",
              "      <td>3.6847</td>\n",
              "      <td>3.7257</td>\n",
              "      <td>10.150118</td>\n",
              "    </tr>\n",
              "    <tr>\n",
              "      <th>3</th>\n",
              "      <td>5/14/2019</td>\n",
              "      <td>2.1319</td>\n",
              "      <td>2.0559</td>\n",
              "      <td>2.1451</td>\n",
              "      <td>2.2856</td>\n",
              "      <td>2.4257</td>\n",
              "      <td>2.5461</td>\n",
              "      <td>2.6428</td>\n",
              "      <td>2.7188</td>\n",
              "      <td>2.7791</td>\n",
              "      <td>2.8289</td>\n",
              "      <td>2.8726</td>\n",
              "      <td>2.9135</td>\n",
              "      <td>2.9539</td>\n",
              "      <td>2.9954</td>\n",
              "      <td>3.0386</td>\n",
              "      <td>3.0841</td>\n",
              "      <td>3.1318</td>\n",
              "      <td>3.1815</td>\n",
              "      <td>3.2330</td>\n",
              "      <td>3.2858</td>\n",
              "      <td>3.3396</td>\n",
              "      <td>3.3940</td>\n",
              "      <td>3.4485</td>\n",
              "      <td>3.5029</td>\n",
              "      <td>3.5568</td>\n",
              "      <td>3.6099</td>\n",
              "      <td>3.6622</td>\n",
              "      <td>3.7132</td>\n",
              "      <td>3.7630</td>\n",
              "      <td>3.8113</td>\n",
              "      <td>10.130177</td>\n",
              "    </tr>\n",
              "    <tr>\n",
              "      <th>4</th>\n",
              "      <td>5/13/2019</td>\n",
              "      <td>2.1051</td>\n",
              "      <td>2.0234</td>\n",
              "      <td>2.1180</td>\n",
              "      <td>2.2632</td>\n",
              "      <td>2.4051</td>\n",
              "      <td>2.5248</td>\n",
              "      <td>2.6198</td>\n",
              "      <td>2.6940</td>\n",
              "      <td>2.7532</td>\n",
              "      <td>2.8029</td>\n",
              "      <td>2.8472</td>\n",
              "      <td>2.8894</td>\n",
              "      <td>2.9315</td>\n",
              "      <td>2.9747</td>\n",
              "      <td>3.0195</td>\n",
              "      <td>3.0662</td>\n",
              "      <td>3.1146</td>\n",
              "      <td>3.1645</td>\n",
              "      <td>3.2155</td>\n",
              "      <td>3.2672</td>\n",
              "      <td>3.3192</td>\n",
              "      <td>3.3712</td>\n",
              "      <td>3.4227</td>\n",
              "      <td>3.4735</td>\n",
              "      <td>3.5234</td>\n",
              "      <td>3.5722</td>\n",
              "      <td>3.6196</td>\n",
              "      <td>3.6655</td>\n",
              "      <td>3.7098</td>\n",
              "      <td>3.7525</td>\n",
              "      <td>10.130177</td>\n",
              "    </tr>\n",
              "  </tbody>\n",
              "</table>\n",
              "</div>"
            ],
            "text/plain": [
              "        Date  SVENF01  SVENF02  SVENF03  ...  SVENF28  SVENF29  SVENF30  Adj_Close\n",
              "0  5/17/2019   2.1224   2.0266   2.1023  ...   3.6471   3.6970   3.7458  10.130177\n",
              "1  5/16/2019   2.1239   2.0317   2.1096  ...   3.6660   3.7153   3.7636  10.130177\n",
              "2  5/15/2019   2.0874   1.9956   2.0844  ...   3.6421   3.6847   3.7257  10.150118\n",
              "3  5/14/2019   2.1319   2.0559   2.1451  ...   3.7132   3.7630   3.8113  10.130177\n",
              "4  5/13/2019   2.1051   2.0234   2.1180  ...   3.6655   3.7098   3.7525  10.130177\n",
              "\n",
              "[5 rows x 32 columns]"
            ]
          },
          "metadata": {},
          "execution_count": 2
        }
      ]
    },
    {
      "cell_type": "code",
      "metadata": {
        "colab": {
          "base_uri": "https://localhost:8080/"
        },
        "id": "kJSQNh7gx_cR",
        "outputId": "ec996343-00a7-41f8-c837-98bcf7bf2bd3"
      },
      "source": [
        "df = df.drop(columns = ['Date'])\n",
        "print(df.apply(num_missing, axis = 0))"
      ],
      "execution_count": 3,
      "outputs": [
        {
          "output_type": "stream",
          "name": "stdout",
          "text": [
            "SVENF01      0\n",
            "SVENF02      0\n",
            "SVENF03      0\n",
            "SVENF04      0\n",
            "SVENF05      0\n",
            "SVENF06      0\n",
            "SVENF07      0\n",
            "SVENF08      0\n",
            "SVENF09      0\n",
            "SVENF10      0\n",
            "SVENF11      0\n",
            "SVENF12      0\n",
            "SVENF13      0\n",
            "SVENF14      0\n",
            "SVENF15      0\n",
            "SVENF16      0\n",
            "SVENF17      0\n",
            "SVENF18      0\n",
            "SVENF19      0\n",
            "SVENF20      0\n",
            "SVENF21      0\n",
            "SVENF22      0\n",
            "SVENF23      0\n",
            "SVENF24      0\n",
            "SVENF25      0\n",
            "SVENF26      0\n",
            "SVENF27      0\n",
            "SVENF28      0\n",
            "SVENF29      0\n",
            "SVENF30      0\n",
            "Adj_Close    0\n",
            "dtype: int64\n"
          ]
        }
      ]
    },
    {
      "cell_type": "markdown",
      "metadata": {
        "id": "Dx20OjbQxqDC"
      },
      "source": [
        "## Part 1: EDA"
      ]
    },
    {
      "cell_type": "markdown",
      "metadata": {
        "id": "xeLl5OVqyEs9"
      },
      "source": [
        "Before Standardizing"
      ]
    },
    {
      "cell_type": "code",
      "metadata": {
        "colab": {
          "base_uri": "https://localhost:8080/",
          "height": 320
        },
        "id": "e5MzRx9tyCZx",
        "outputId": "4c77a02a-9565-42ba-b8e1-5c5b0cf045c0"
      },
      "source": [
        "df.describe()"
      ],
      "execution_count": 4,
      "outputs": [
        {
          "output_type": "execute_result",
          "data": {
            "text/html": [
              "<div>\n",
              "<style scoped>\n",
              "    .dataframe tbody tr th:only-of-type {\n",
              "        vertical-align: middle;\n",
              "    }\n",
              "\n",
              "    .dataframe tbody tr th {\n",
              "        vertical-align: top;\n",
              "    }\n",
              "\n",
              "    .dataframe thead th {\n",
              "        text-align: right;\n",
              "    }\n",
              "</style>\n",
              "<table border=\"1\" class=\"dataframe\">\n",
              "  <thead>\n",
              "    <tr style=\"text-align: right;\">\n",
              "      <th></th>\n",
              "      <th>SVENF01</th>\n",
              "      <th>SVENF02</th>\n",
              "      <th>SVENF03</th>\n",
              "      <th>SVENF04</th>\n",
              "      <th>SVENF05</th>\n",
              "      <th>SVENF06</th>\n",
              "      <th>SVENF07</th>\n",
              "      <th>SVENF08</th>\n",
              "      <th>SVENF09</th>\n",
              "      <th>SVENF10</th>\n",
              "      <th>SVENF11</th>\n",
              "      <th>SVENF12</th>\n",
              "      <th>SVENF13</th>\n",
              "      <th>SVENF14</th>\n",
              "      <th>SVENF15</th>\n",
              "      <th>SVENF16</th>\n",
              "      <th>SVENF17</th>\n",
              "      <th>SVENF18</th>\n",
              "      <th>SVENF19</th>\n",
              "      <th>SVENF20</th>\n",
              "      <th>SVENF21</th>\n",
              "      <th>SVENF22</th>\n",
              "      <th>SVENF23</th>\n",
              "      <th>SVENF24</th>\n",
              "      <th>SVENF25</th>\n",
              "      <th>SVENF26</th>\n",
              "      <th>SVENF27</th>\n",
              "      <th>SVENF28</th>\n",
              "      <th>SVENF29</th>\n",
              "      <th>SVENF30</th>\n",
              "      <th>Adj_Close</th>\n",
              "    </tr>\n",
              "  </thead>\n",
              "  <tbody>\n",
              "    <tr>\n",
              "      <th>count</th>\n",
              "      <td>8071.000000</td>\n",
              "      <td>8071.000000</td>\n",
              "      <td>8071.000000</td>\n",
              "      <td>8071.000000</td>\n",
              "      <td>8071.000000</td>\n",
              "      <td>8071.000000</td>\n",
              "      <td>8071.000000</td>\n",
              "      <td>8071.000000</td>\n",
              "      <td>8071.000000</td>\n",
              "      <td>8071.000000</td>\n",
              "      <td>8071.000000</td>\n",
              "      <td>8071.000000</td>\n",
              "      <td>8071.000000</td>\n",
              "      <td>8071.000000</td>\n",
              "      <td>8071.000000</td>\n",
              "      <td>8071.000000</td>\n",
              "      <td>8071.000000</td>\n",
              "      <td>8071.000000</td>\n",
              "      <td>8071.000000</td>\n",
              "      <td>8071.000000</td>\n",
              "      <td>8071.000000</td>\n",
              "      <td>8071.000000</td>\n",
              "      <td>8071.000000</td>\n",
              "      <td>8071.000000</td>\n",
              "      <td>8071.000000</td>\n",
              "      <td>8071.000000</td>\n",
              "      <td>8071.000000</td>\n",
              "      <td>8071.000000</td>\n",
              "      <td>8071.000000</td>\n",
              "      <td>8071.000000</td>\n",
              "      <td>8071.000000</td>\n",
              "    </tr>\n",
              "    <tr>\n",
              "      <th>mean</th>\n",
              "      <td>3.785311</td>\n",
              "      <td>4.258972</td>\n",
              "      <td>4.669363</td>\n",
              "      <td>5.022430</td>\n",
              "      <td>5.318493</td>\n",
              "      <td>5.559644</td>\n",
              "      <td>5.750071</td>\n",
              "      <td>5.895135</td>\n",
              "      <td>6.000596</td>\n",
              "      <td>6.072112</td>\n",
              "      <td>6.114960</td>\n",
              "      <td>6.133891</td>\n",
              "      <td>6.133095</td>\n",
              "      <td>6.116199</td>\n",
              "      <td>6.086309</td>\n",
              "      <td>6.046063</td>\n",
              "      <td>5.997680</td>\n",
              "      <td>5.943023</td>\n",
              "      <td>5.883646</td>\n",
              "      <td>5.820842</td>\n",
              "      <td>5.755680</td>\n",
              "      <td>5.689046</td>\n",
              "      <td>5.621666</td>\n",
              "      <td>5.554136</td>\n",
              "      <td>5.486943</td>\n",
              "      <td>5.420479</td>\n",
              "      <td>5.355063</td>\n",
              "      <td>5.290948</td>\n",
              "      <td>5.228333</td>\n",
              "      <td>5.167371</td>\n",
              "      <td>5.509793</td>\n",
              "    </tr>\n",
              "    <tr>\n",
              "      <th>std</th>\n",
              "      <td>2.648060</td>\n",
              "      <td>2.498137</td>\n",
              "      <td>2.341348</td>\n",
              "      <td>2.221632</td>\n",
              "      <td>2.137801</td>\n",
              "      <td>2.080405</td>\n",
              "      <td>2.040337</td>\n",
              "      <td>2.010786</td>\n",
              "      <td>1.987244</td>\n",
              "      <td>1.966960</td>\n",
              "      <td>1.948384</td>\n",
              "      <td>1.930704</td>\n",
              "      <td>1.913565</td>\n",
              "      <td>1.896877</td>\n",
              "      <td>1.880709</td>\n",
              "      <td>1.865233</td>\n",
              "      <td>1.850679</td>\n",
              "      <td>1.837315</td>\n",
              "      <td>1.825424</td>\n",
              "      <td>1.815285</td>\n",
              "      <td>1.807164</td>\n",
              "      <td>1.801291</td>\n",
              "      <td>1.797858</td>\n",
              "      <td>1.797012</td>\n",
              "      <td>1.798842</td>\n",
              "      <td>1.803390</td>\n",
              "      <td>1.810643</td>\n",
              "      <td>1.820541</td>\n",
              "      <td>1.832984</td>\n",
              "      <td>1.847834</td>\n",
              "      <td>2.491110</td>\n",
              "    </tr>\n",
              "    <tr>\n",
              "      <th>min</th>\n",
              "      <td>0.072700</td>\n",
              "      <td>0.327300</td>\n",
              "      <td>0.630300</td>\n",
              "      <td>1.013000</td>\n",
              "      <td>1.424500</td>\n",
              "      <td>1.698200</td>\n",
              "      <td>1.807300</td>\n",
              "      <td>1.885000</td>\n",
              "      <td>1.942100</td>\n",
              "      <td>1.988200</td>\n",
              "      <td>2.030900</td>\n",
              "      <td>2.075900</td>\n",
              "      <td>2.127200</td>\n",
              "      <td>2.187500</td>\n",
              "      <td>2.258100</td>\n",
              "      <td>2.339500</td>\n",
              "      <td>2.431700</td>\n",
              "      <td>2.486300</td>\n",
              "      <td>2.220200</td>\n",
              "      <td>1.971100</td>\n",
              "      <td>1.722100</td>\n",
              "      <td>1.489600</td>\n",
              "      <td>1.283000</td>\n",
              "      <td>1.100800</td>\n",
              "      <td>0.941000</td>\n",
              "      <td>0.801800</td>\n",
              "      <td>0.681200</td>\n",
              "      <td>0.577100</td>\n",
              "      <td>0.487600</td>\n",
              "      <td>0.411100</td>\n",
              "      <td>2.801050</td>\n",
              "    </tr>\n",
              "    <tr>\n",
              "      <th>25%</th>\n",
              "      <td>1.144050</td>\n",
              "      <td>1.865600</td>\n",
              "      <td>2.536550</td>\n",
              "      <td>3.023050</td>\n",
              "      <td>3.544700</td>\n",
              "      <td>4.063300</td>\n",
              "      <td>4.409750</td>\n",
              "      <td>4.644300</td>\n",
              "      <td>4.774550</td>\n",
              "      <td>4.859500</td>\n",
              "      <td>4.914800</td>\n",
              "      <td>4.923700</td>\n",
              "      <td>4.913450</td>\n",
              "      <td>4.876650</td>\n",
              "      <td>4.783700</td>\n",
              "      <td>4.702150</td>\n",
              "      <td>4.630500</td>\n",
              "      <td>4.551250</td>\n",
              "      <td>4.472000</td>\n",
              "      <td>4.385000</td>\n",
              "      <td>4.281300</td>\n",
              "      <td>4.177450</td>\n",
              "      <td>4.090550</td>\n",
              "      <td>4.024800</td>\n",
              "      <td>3.982950</td>\n",
              "      <td>3.962100</td>\n",
              "      <td>3.887150</td>\n",
              "      <td>3.840900</td>\n",
              "      <td>3.825050</td>\n",
              "      <td>3.831350</td>\n",
              "      <td>3.130587</td>\n",
              "    </tr>\n",
              "    <tr>\n",
              "      <th>50%</th>\n",
              "      <td>3.986500</td>\n",
              "      <td>4.393300</td>\n",
              "      <td>4.505500</td>\n",
              "      <td>4.718900</td>\n",
              "      <td>5.051300</td>\n",
              "      <td>5.394600</td>\n",
              "      <td>5.663700</td>\n",
              "      <td>5.870800</td>\n",
              "      <td>5.993700</td>\n",
              "      <td>6.082400</td>\n",
              "      <td>6.133200</td>\n",
              "      <td>6.142700</td>\n",
              "      <td>6.148200</td>\n",
              "      <td>6.144300</td>\n",
              "      <td>6.128200</td>\n",
              "      <td>6.091400</td>\n",
              "      <td>6.036700</td>\n",
              "      <td>5.976100</td>\n",
              "      <td>5.908300</td>\n",
              "      <td>5.831600</td>\n",
              "      <td>5.735400</td>\n",
              "      <td>5.619600</td>\n",
              "      <td>5.503000</td>\n",
              "      <td>5.369900</td>\n",
              "      <td>5.228000</td>\n",
              "      <td>5.096700</td>\n",
              "      <td>4.979700</td>\n",
              "      <td>4.860800</td>\n",
              "      <td>4.758600</td>\n",
              "      <td>4.669000</td>\n",
              "      <td>4.956219</td>\n",
              "    </tr>\n",
              "    <tr>\n",
              "      <th>75%</th>\n",
              "      <td>5.901500</td>\n",
              "      <td>6.221250</td>\n",
              "      <td>6.461300</td>\n",
              "      <td>6.626600</td>\n",
              "      <td>6.779550</td>\n",
              "      <td>6.908050</td>\n",
              "      <td>7.049900</td>\n",
              "      <td>7.181600</td>\n",
              "      <td>7.297550</td>\n",
              "      <td>7.393350</td>\n",
              "      <td>7.480750</td>\n",
              "      <td>7.539750</td>\n",
              "      <td>7.588300</td>\n",
              "      <td>7.619000</td>\n",
              "      <td>7.625050</td>\n",
              "      <td>7.613300</td>\n",
              "      <td>7.582050</td>\n",
              "      <td>7.544100</td>\n",
              "      <td>7.498900</td>\n",
              "      <td>7.461800</td>\n",
              "      <td>7.418100</td>\n",
              "      <td>7.330550</td>\n",
              "      <td>7.233200</td>\n",
              "      <td>7.114900</td>\n",
              "      <td>6.998150</td>\n",
              "      <td>6.871050</td>\n",
              "      <td>6.765400</td>\n",
              "      <td>6.650600</td>\n",
              "      <td>6.535450</td>\n",
              "      <td>6.421850</td>\n",
              "      <td>8.051437</td>\n",
              "    </tr>\n",
              "    <tr>\n",
              "      <th>max</th>\n",
              "      <td>9.813800</td>\n",
              "      <td>9.887800</td>\n",
              "      <td>10.145600</td>\n",
              "      <td>10.459900</td>\n",
              "      <td>10.649900</td>\n",
              "      <td>10.741400</td>\n",
              "      <td>10.766300</td>\n",
              "      <td>10.747500</td>\n",
              "      <td>10.701500</td>\n",
              "      <td>10.640000</td>\n",
              "      <td>10.571000</td>\n",
              "      <td>10.532600</td>\n",
              "      <td>10.533800</td>\n",
              "      <td>10.534500</td>\n",
              "      <td>10.534800</td>\n",
              "      <td>10.535000</td>\n",
              "      <td>10.535000</td>\n",
              "      <td>10.535100</td>\n",
              "      <td>10.535100</td>\n",
              "      <td>10.535100</td>\n",
              "      <td>10.535100</td>\n",
              "      <td>10.535100</td>\n",
              "      <td>10.535100</td>\n",
              "      <td>10.535100</td>\n",
              "      <td>10.535100</td>\n",
              "      <td>10.535100</td>\n",
              "      <td>10.535100</td>\n",
              "      <td>10.535100</td>\n",
              "      <td>10.535100</td>\n",
              "      <td>10.535100</td>\n",
              "      <td>10.150118</td>\n",
              "    </tr>\n",
              "  </tbody>\n",
              "</table>\n",
              "</div>"
            ],
            "text/plain": [
              "           SVENF01      SVENF02  ...      SVENF30    Adj_Close\n",
              "count  8071.000000  8071.000000  ...  8071.000000  8071.000000\n",
              "mean      3.785311     4.258972  ...     5.167371     5.509793\n",
              "std       2.648060     2.498137  ...     1.847834     2.491110\n",
              "min       0.072700     0.327300  ...     0.411100     2.801050\n",
              "25%       1.144050     1.865600  ...     3.831350     3.130587\n",
              "50%       3.986500     4.393300  ...     4.669000     4.956219\n",
              "75%       5.901500     6.221250  ...     6.421850     8.051437\n",
              "max       9.813800     9.887800  ...    10.535100    10.150118\n",
              "\n",
              "[8 rows x 31 columns]"
            ]
          },
          "metadata": {},
          "execution_count": 4
        }
      ]
    },
    {
      "cell_type": "code",
      "metadata": {
        "colab": {
          "base_uri": "https://localhost:8080/",
          "height": 359
        },
        "id": "kJZHlZFvBdO8",
        "outputId": "4283a9b4-ecad-4234-ee6f-73f448bb5fe1"
      },
      "source": [
        "#Boxplots\n",
        "df.boxplot()\n",
        "plt.xticks(rotation = 90)"
      ],
      "execution_count": 27,
      "outputs": [
        {
          "output_type": "execute_result",
          "data": {
            "text/plain": [
              "(array([ 1,  2,  3,  4,  5,  6,  7,  8,  9, 10, 11, 12, 13, 14, 15, 16, 17,\n",
              "        18, 19, 20, 21, 22, 23, 24, 25, 26, 27, 28, 29, 30, 31]),\n",
              " <a list of 31 Text major ticklabel objects>)"
            ]
          },
          "metadata": {},
          "execution_count": 27
        },
        {
          "output_type": "display_data",
          "data": {
            "image/png": "[encoded data removed]",
            "text/plain": [
              "<Figure size 432x288 with 1 Axes>"
            ]
          },
          "metadata": {
            "needs_background": "light"
          }
        }
      ]
    },
    {
      "cell_type": "code",
      "metadata": {
        "colab": {
          "base_uri": "https://localhost:8080/",
          "height": 281
        },
        "id": "RXX-_wdcyGTh",
        "outputId": "a24450d9-d36b-41a0-d1a3-e98976e6bf4f"
      },
      "source": [
        "corMat = pd.DataFrame(df.corr())\n",
        "\n",
        "plt.pcolor(corMat)\n",
        "plt.title(\"Correlation Heat Map\")\n",
        "plt.show()"
      ],
      "execution_count": 6,
      "outputs": [
        {
          "output_type": "display_data",
          "data": {
            "image/png": "[encoded data removed]",
            "text/plain": [
              "<Figure size 432x288 with 1 Axes>"
            ]
          },
          "metadata": {
            "needs_background": "light"
          }
        }
      ]
    },
    {
      "cell_type": "code",
      "metadata": {
        "colab": {
          "base_uri": "https://localhost:8080/",
          "height": 319
        },
        "id": "VaEl9By5yI0H",
        "outputId": "510d1dd9-23d3-4ee7-ff3a-ec2a446ef02d"
      },
      "source": [
        "correlation_mat = df.corr()\n",
        "\n",
        "sns.heatmap(correlation_mat, annot = False)\n",
        "plt.title(\"Correlation Heat Map\")\n",
        "plt.show()\n",
        "\n",
        "#heavy correlation for most features"
      ],
      "execution_count": 7,
      "outputs": [
        {
          "output_type": "display_data",
          "data": {
            "image/png": "[encoded data removed]",
            "text/plain": [
              "<Figure size 432x288 with 2 Axes>"
            ]
          },
          "metadata": {
            "needs_background": "light"
          }
        }
      ]
    },
    {
      "cell_type": "code",
      "metadata": {
        "id": "AkigHmYTyVH7"
      },
      "source": [
        "#Split into training-test sets\n",
        "from sklearn.model_selection import train_test_split\n",
        "\n",
        "x = df.drop(columns = ['Adj_Close'])\n",
        "x.head()\n",
        "\n",
        "X_train, X_test, y_train, y_test = train_test_split(x, df['Adj_Close'], test_size=0.15, random_state=42)"
      ],
      "execution_count": 8,
      "outputs": []
    },
    {
      "cell_type": "code",
      "metadata": {
        "id": "vBeQetQTylXh"
      },
      "source": [
        "#Standardize with standard scaler\n",
        "from sklearn.preprocessing import StandardScaler\n",
        "sc = StandardScaler()\n",
        "X_train_std = sc.fit_transform(X_train)\n",
        "X_test_std = sc.transform(X_test)"
      ],
      "execution_count": 9,
      "outputs": []
    },
    {
      "cell_type": "markdown",
      "metadata": {
        "id": "dz02djr-zMaa"
      },
      "source": [
        "## PCA on dataset\n"
      ]
    },
    {
      "cell_type": "code",
      "metadata": {
        "colab": {
          "base_uri": "https://localhost:8080/"
        },
        "id": "REJ9n7wszU8d",
        "outputId": "5d14df3b-e7f3-4e6b-a12a-559e0a7bf8a8"
      },
      "source": [
        "#Cumulative explained variance\n",
        "cov_mat = np.cov(X_train_std.T)\n",
        "eigenvals, eigenvecs = np.linalg.eig(cov_mat)\n",
        "print('\\nEigenvalues \\n%s' % eigenvals)\n"
      ],
      "execution_count": 10,
      "outputs": [
        {
          "output_type": "stream",
          "name": "stdout",
          "text": [
            "\n",
            "Eigenvalues \n",
            "[2.79579848e+01 1.22313057e+00 6.55411544e-01 1.45561136e-01\n",
            " 1.99031388e-02 2.06243818e-03 2.84492074e-04 3.29679042e-05\n",
            " 2.55310505e-06 2.02358034e-07 1.41807223e-08 1.14065184e-09\n",
            " 1.87834406e-10 2.79223564e-10 1.97434888e-10 2.08170843e-10\n",
            " 2.16456135e-10 2.61581427e-10 2.21833140e-10 2.26975790e-10\n",
            " 2.24866287e-10 2.31123423e-10 2.57846729e-10 2.56093138e-10\n",
            " 2.35379808e-10 2.52582442e-10 2.49758675e-10 2.38344430e-10\n",
            " 2.43769541e-10 2.44978760e-10]\n"
          ]
        }
      ]
    },
    {
      "cell_type": "code",
      "metadata": {
        "colab": {
          "base_uri": "https://localhost:8080/"
        },
        "id": "f8KVQYtgztIn",
        "outputId": "49a8497e-4911-4df3-d039-ed69248d946b"
      },
      "source": [
        "tot = sum(eigenvals)\n",
        "var_exp = [(i/tot) for i in sorted(eigenvals, reverse = True)]\n",
        "cum_var_exp = np.cumsum(var_exp)\n",
        "\n",
        "print(var_exp)\n",
        "print(cum_var_exp)\n",
        "\n",
        "print(len(var_exp))"
      ],
      "execution_count": 11,
      "outputs": [
        {
          "output_type": "stream",
          "name": "stdout",
          "text": [
            "[0.9317969749380347, 0.04076507559642957, 0.021843866774838572, 0.004851330579495056, 0.000663341249742568, 6.87379176250734e-05, 9.481686747978828e-06, 1.0987699468249641e-06, 8.509109602390575e-08, 6.744284524055292e-09, 4.726218380051956e-10, 3.8016185315353525e-11, 9.306095353676375e-12, 8.71810986919668e-12, 8.593638070386526e-12, 8.535193547628366e-12, 8.418187396993204e-12, 8.324075570815556e-12, 8.164768289399366e-12, 8.12446687552559e-12, 7.943656188689898e-12, 7.84484986872113e-12, 7.702991064291871e-12, 7.564756762006768e-12, 7.494450263299693e-12, 7.393360094241526e-12, 7.2141527135822344e-12, 6.9380165690743895e-12, 6.580203582839132e-12, 6.260234154352169e-12]\n",
            "[0.93179697 0.97256205 0.99440592 0.99925725 0.99992059 0.99998933\n",
            " 0.99999881 0.99999991 0.99999999 1.         1.         1.\n",
            " 1.         1.         1.         1.         1.         1.\n",
            " 1.         1.         1.         1.         1.         1.\n",
            " 1.         1.         1.         1.         1.         1.        ]\n",
            "30\n"
          ]
        }
      ]
    },
    {
      "cell_type": "code",
      "metadata": {
        "colab": {
          "base_uri": "https://localhost:8080/",
          "height": 279
        },
        "id": "nDnkC7HtzdYN",
        "outputId": "182ea044-3055-4df4-a00c-fbf2a853e901"
      },
      "source": [
        "plt.bar(range(1,31), var_exp, alpha = 0.5, align = 'center', label = 'individual explained variance')\n",
        "plt.step(range(1,31), cum_var_exp, where = 'mid', label = 'cumulative explained variance')\n",
        "plt.ylabel('Explained variance ratio')\n",
        "plt.xlabel('Principal Component Index')\n",
        "plt.legend(loc = 'best')\n",
        "plt.show()"
      ],
      "execution_count": 12,
      "outputs": [
        {
          "output_type": "display_data",
          "data": {
            "image/png": "[encoded data removed]",
            "text/plain": [
              "<Figure size 432x288 with 1 Axes>"
            ]
          },
          "metadata": {
            "needs_background": "light"
          }
        }
      ]
    },
    {
      "cell_type": "code",
      "metadata": {
        "colab": {
          "base_uri": "https://localhost:8080/"
        },
        "id": "ElYkJ9sj3CcT",
        "outputId": "a182d155-7af3-427d-cc4a-36c8fafac3eb"
      },
      "source": [
        "print(\"Cumulative explained variance for 3 components: \" + str(cum_var_exp[2]))"
      ],
      "execution_count": 13,
      "outputs": [
        {
          "output_type": "stream",
          "name": "stdout",
          "text": [
            "Cumulative explained variance for 3 components: 0.994405917309303\n"
          ]
        }
      ]
    },
    {
      "cell_type": "code",
      "metadata": {
        "id": "S2mFZlKg4cvP"
      },
      "source": [
        "from sklearn.decomposition import PCA\n",
        "pca = PCA(n_components = 3)\n",
        "X_train_pca = pca.fit_transform(X_train_std)\n",
        "X_test_pca = pca.transform(X_test_std)"
      ],
      "execution_count": 14,
      "outputs": []
    },
    {
      "cell_type": "markdown",
      "metadata": {
        "id": "UNTgcVPPDHt2"
      },
      "source": [
        ""
      ]
    },
    {
      "cell_type": "markdown",
      "metadata": {
        "id": "fxTHadz_2_jQ"
      },
      "source": [
        "## Lin Reg v. SVM Reg: Baseline"
      ]
    },
    {
      "cell_type": "markdown",
      "metadata": {
        "id": "Wbux9RNg5HwR"
      },
      "source": [
        "Linear Regression: Full set"
      ]
    },
    {
      "cell_type": "code",
      "metadata": {
        "id": "BJpCWFcA3WNf"
      },
      "source": [
        "from sklearn.linear_model import LinearRegression\n",
        "from sklearn.metrics import mean_squared_error, r2_score\n",
        "\n",
        "lr = LinearRegression()\n",
        "lreg = lr.fit(X_train_std, y_train)\n",
        "y_pred = lreg.predict(X_test_std)\n",
        "y_train_pred = lreg.predict(X_train_std)"
      ],
      "execution_count": 15,
      "outputs": []
    },
    {
      "cell_type": "code",
      "metadata": {
        "colab": {
          "base_uri": "https://localhost:8080/"
        },
        "id": "6BxNS-Iw6WMZ",
        "outputId": "a3a803d8-e126-46f1-b83e-b03ffedb523d"
      },
      "source": [
        "print(\"Train Score: \" + str(lreg.score(X_train_std, y_train)))\n",
        "print(\"Test Score: \" + str(lreg.score(X_test_std, y_test)))\n",
        "print(\"Mean Squared Error (MSE): \" + str(mean_squared_error(y_test, y_pred)))\n",
        "print(\"RMSE: \" + str(np.sqrt(mean_squared_error(y_test, y_pred))))\n",
        "\n",
        "print(\"Train R^2: \" + str(r2_score(y_train, y_train_pred)))\n",
        "print(\"Test R^2: \" + str(r2_score(y_test, y_pred)))"
      ],
      "execution_count": 16,
      "outputs": [
        {
          "output_type": "stream",
          "name": "stdout",
          "text": [
            "Train Score: 0.9022730353400435\n",
            "Test Score: 0.9041309535337262\n",
            "Mean Squared Error (MSE): 0.6121021683244493\n",
            "RMSE: 0.7823695855057565\n",
            "Train R^2: 0.9022730353400437\n",
            "Test R^2: 0.9041309535337262\n"
          ]
        }
      ]
    },
    {
      "cell_type": "markdown",
      "metadata": {
        "id": "83IAEsMj6hkZ"
      },
      "source": [
        "Linear Regression: PCA"
      ]
    },
    {
      "cell_type": "code",
      "metadata": {
        "id": "UWhl4ZoZ6jRR"
      },
      "source": [
        "lr_pca = LinearRegression()\n",
        "lregpca = lr_pca.fit(X_train_pca, y_train)\n",
        "y_pred = lregpca.predict(X_test_pca)\n",
        "y_train_pred = lregpca.predict(X_train_pca)"
      ],
      "execution_count": 17,
      "outputs": []
    },
    {
      "cell_type": "code",
      "metadata": {
        "colab": {
          "base_uri": "https://localhost:8080/"
        },
        "id": "Pxt-KUKi7KjE",
        "outputId": "95feef66-943f-429a-9483-200736c4ed66"
      },
      "source": [
        "print(\"Train Score: \" + str(lregpca.score(X_train_pca, y_train)))\n",
        "print(\"Test Score: \" + str(lregpca.score(X_test_pca, y_test)))\n",
        "print(\"Mean Squared Error (MSE): \" + str(mean_squared_error(y_test, y_pred)))\n",
        "print(\"RMSE: \" + str(np.sqrt(mean_squared_error(y_test, y_pred))))\n",
        "\n",
        "print(\"Train R^2: \" + str(r2_score(y_train, y_train_pred)))\n",
        "print(\"Test R^2: \" + str(r2_score(y_test, y_pred)))"
      ],
      "execution_count": 18,
      "outputs": [
        {
          "output_type": "stream",
          "name": "stdout",
          "text": [
            "Train Score: 0.8672181160186359\n",
            "Test Score: 0.8662415053375473\n",
            "Mean Squared Error (MSE): 0.8540177213873134\n",
            "RMSE: 0.924130792359671\n",
            "Train R^2: 0.8672181160186357\n",
            "Test R^2: 0.8662415053375473\n"
          ]
        }
      ]
    },
    {
      "cell_type": "markdown",
      "metadata": {
        "id": "SHRgYpAw7Snn"
      },
      "source": [
        "SVM Reg: Baseline"
      ]
    },
    {
      "cell_type": "code",
      "metadata": {
        "id": "xil5R5x97YGI"
      },
      "source": [
        "from sklearn import svm\n",
        "clf_svr = svm.SVR(kernel = 'linear')\n",
        "clf_svr.fit(X_train_std, y_train)\n",
        "y_pred = clf_svr.predict(X_test_std)\n",
        "y_train_pred = clf_svr.predict(X_train_std)"
      ],
      "execution_count": 19,
      "outputs": []
    },
    {
      "cell_type": "code",
      "metadata": {
        "colab": {
          "base_uri": "https://localhost:8080/"
        },
        "id": "E_4MziAQ9GF5",
        "outputId": "abfd2641-76fe-4288-d12c-4692fa6503f7"
      },
      "source": [
        "print(\"Train Score: \" + str(clf_svr.score(X_train_std, y_train)))\n",
        "print(\"Test Score: \" + str(clf_svr.score(X_test_std, y_test)))\n",
        "print(\"Mean Squared Error (MSE): \" + str(mean_squared_error(y_test, y_pred)))\n",
        "print(\"RMSE: \" + str(np.sqrt(mean_squared_error(y_test, y_pred))))\n",
        "\n",
        "print(\"Train R^2: \" + str(r2_score(y_train, y_train_pred)))\n",
        "print(\"Test R^2: \" + str(r2_score(y_test, y_pred)))"
      ],
      "execution_count": 20,
      "outputs": [
        {
          "output_type": "stream",
          "name": "stdout",
          "text": [
            "Train Score: 0.8920208361922309\n",
            "Test Score: 0.8924613825895129\n",
            "Mean Squared Error (MSE): 0.686609738198755\n",
            "RMSE: 0.8286191756161301\n",
            "Train R^2: 0.8920208361922309\n",
            "Test R^2: 0.8924613825895129\n"
          ]
        }
      ]
    },
    {
      "cell_type": "markdown",
      "metadata": {
        "id": "GL-f9-o99Zq_"
      },
      "source": [
        "SVM Reg: PCA"
      ]
    },
    {
      "cell_type": "code",
      "metadata": {
        "id": "pQEEHGON9bAx"
      },
      "source": [
        "clf_svr = svm.SVR(kernel = 'linear')\n",
        "clf_svr.fit(X_train_pca, y_train)\n",
        "y_pred = clf_svr.predict(X_test_pca)\n",
        "y_train_pred = clf_svr.predict(X_train_pca)"
      ],
      "execution_count": 21,
      "outputs": []
    },
    {
      "cell_type": "code",
      "metadata": {
        "colab": {
          "base_uri": "https://localhost:8080/"
        },
        "id": "E_JWp5q59l1K",
        "outputId": "687cc48b-4fef-4e71-9352-58fc6ee6a418"
      },
      "source": [
        "print(\"Train Score: \" + str(clf_svr.score(X_train_pca, y_train)))\n",
        "print(\"Test Score: \" + str(clf_svr.score(X_test_pca, y_test)))\n",
        "print(\"Mean Squared Error (MSE): \" + str(mean_squared_error(y_test, y_pred)))\n",
        "print(\"RMSE: \" + str(np.sqrt(mean_squared_error(y_test, y_pred))))\n",
        "\n",
        "print(\"Train R^2: \" + str(r2_score(y_train, y_train_pred)))\n",
        "print(\"Test R^2: \" + str(r2_score(y_test, y_pred)))"
      ],
      "execution_count": 22,
      "outputs": [
        {
          "output_type": "stream",
          "name": "stdout",
          "text": [
            "Train Score: 0.8624827979809777\n",
            "Test Score: 0.8611702699819538\n",
            "Mean Squared Error (MSE): 0.8863964116075648\n",
            "RMSE: 0.9414862779709351\n",
            "Train R^2: 0.8624827979809778\n",
            "Test R^2: 0.8611702699819538\n"
          ]
        }
      ]
    },
    {
      "cell_type": "markdown",
      "metadata": {
        "id": "Osb13-YXAanJ"
      },
      "source": [
        "## Statements & Print to PDF"
      ]
    },
    {
      "cell_type": "code",
      "metadata": {
        "colab": {
          "base_uri": "https://localhost:8080/"
        },
        "id": "GtfhnNzkAXKE",
        "outputId": "8ceb220a-fe2c-4110-e206-e2f088ddba06"
      },
      "source": [
        "print(\"My name is Emma Mayes\")\n",
        "print(\"My NetID is: eemayes2\")\n",
        "print(\"I hereby certify that I have read the University policy on Academic Integrity and that I am not in violation.\")"
      ],
      "execution_count": 23,
      "outputs": [
        {
          "output_type": "stream",
          "name": "stdout",
          "text": [
            "My name is Emma Mayes\n",
            "My NetID is: eemayes2\n",
            "I hereby certify that I have read the University policy on Academic Integrity and that I am not in violation.\n"
          ]
        }
      ]
    },
    {
      "cell_type": "code",
      "metadata": {
        "colab": {
          "base_uri": "https://localhost:8080/",
          "height": 448
        },
        "id": "rt8Y5iNtAdtJ",
        "outputId": "36196024-10e9-44ff-b934-57101f361e93"
      },
      "source": [
        "!wget -nc https://raw.githubusercontent.com/brpy/colab-pdf/master/colab_pdf.py\n",
        "from colab_pdf import colab_pdf\n",
        "colab_pdf('IE517_HWK5.ipynb')"
      ],
      "execution_count": 28,
      "outputs": [
        {
          "output_type": "stream",
          "name": "stdout",
          "text": [
            "File ‘colab_pdf.py’ already there; not retrieving.\n",
            "\n",
            "\n",
            "WARNING: apt does not have a stable CLI interface. Use with caution in scripts.\n",
            "\n",
            "\n",
            "WARNING: apt does not have a stable CLI interface. Use with caution in scripts.\n",
            "\n",
            "Extracting templates from packages: 100%\n",
            "[NbConvertApp] Converting notebook /content/drive/MyDrive/Colab Notebooks/IE517_HWK5.ipynb to pdf\n",
            "[NbConvertApp] Support files will be in IE517_HWK5_files/\n",
            "[NbConvertApp] Making directory ./IE517_HWK5_files\n",
            "[NbConvertApp] Making directory ./IE517_HWK5_files\n",
            "[NbConvertApp] Making directory ./IE517_HWK5_files\n",
            "[NbConvertApp] Making directory ./IE517_HWK5_files\n",
            "[NbConvertApp] Writing 48865 bytes to ./notebook.tex\n",
            "[NbConvertApp] Building PDF\n",
            "[NbConvertApp] Running xelatex 3 times: [u'xelatex', u'./notebook.tex', '-quiet']\n",
            "[NbConvertApp] Running bibtex 1 time: [u'bibtex', u'./notebook']\n",
            "[NbConvertApp] WARNING | bibtex had problems, most likely because there were no citations\n",
            "[NbConvertApp] PDF successfully created\n",
            "[NbConvertApp] Writing 82645 bytes to /content/drive/My Drive/IE517_HWK5.pdf\n"
          ]
        },
        {
          "output_type": "display_data",
          "data": {
            "application/javascript": [
              "\n",
              "    async function download(id, filename, size) {\n",
              "      if (!google.colab.kernel.accessAllowed) {\n",
              "        return;\n",
              "      }\n",
              "      const div = document.createElement('div');\n",
              "      const label = document.createElement('label');\n",
              "      label.textContent = `Downloading \"${filename}\": `;\n",
              "      div.appendChild(label);\n",
              "      const progress = document.createElement('progress');\n",
              "      progress.max = size;\n",
              "      div.appendChild(progress);\n",
              "      document.body.appendChild(div);\n",
              "\n",
              "      const buffers = [];\n",
              "      let downloaded = 0;\n",
              "\n",
              "      const channel = await google.colab.kernel.comms.open(id);\n",
              "      // Send a message to notify the kernel that we're ready.\n",
              "      channel.send({})\n",
              "\n",
              "      for await (const message of channel.messages) {\n",
              "        // Send a message to notify the kernel that we're ready.\n",
              "        channel.send({})\n",
              "        if (message.buffers) {\n",
              "          for (const buffer of message.buffers) {\n",
              "            buffers.push(buffer);\n",
              "            downloaded += buffer.byteLength;\n",
              "            progress.value = downloaded;\n",
              "          }\n",
              "        }\n",
              "      }\n",
              "      const blob = new Blob(buffers, {type: 'application/binary'});\n",
              "      const a = document.createElement('a');\n",
              "      a.href = window.URL.createObjectURL(blob);\n",
              "      a.download = filename;\n",
              "      div.appendChild(a);\n",
              "      a.click();\n",
              "      div.remove();\n",
              "    }\n",
              "  "
            ],
            "text/plain": [
              "<IPython.core.display.Javascript object>"
            ]
          },
          "metadata": {}
        },
        {
          "output_type": "display_data",
          "data": {
            "application/javascript": [
              "download(\"download_4e2f54b7-5f56-4931-b4c5-ce11b3bc164a\", \"IE517_HWK5.pdf\", 82645)"
            ],
            "text/plain": [
              "<IPython.core.display.Javascript object>"
            ]
          },
          "metadata": {}
        },
        {
          "output_type": "execute_result",
          "data": {
            "application/vnd.google.colaboratory.intrinsic+json": {
              "type": "string"
            },
            "text/plain": [
              "'File ready to be Downloaded and Saved to Drive'"
            ]
          },
          "metadata": {},
          "execution_count": 28
        }
      ]
    }
  ]
}